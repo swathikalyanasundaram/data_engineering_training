{
  "nbformat": 4,
  "nbformat_minor": 0,
  "metadata": {
    "colab": {
      "provenance": []
    },
    "kernelspec": {
      "name": "python3",
      "display_name": "Python 3"
    },
    "language_info": {
      "name": "python"
    }
  },
  "cells": [
    {
      "cell_type": "markdown",
      "source": [
        "NOTEBOOK 2"
      ],
      "metadata": {
        "id": "0TpVsac5LIGm"
      }
    },
    {
      "cell_type": "code",
      "execution_count": null,
      "metadata": {
        "id": "uyhaKRX6LAiM"
      },
      "outputs": [],
      "source": [
        "from pyspark.sql import SparkSession\n",
        "from pyspark.sql.functions import avg\n",
        "\n",
        "# Create a Spark session\n",
        "spark = SparkSession.builder.appName(\"StudentDataAnalysis\").getOrCreate()\n",
        "\n",
        "# Read the cleaned Delta table\n",
        "cleaned_students_df = spark.read.format(\"delta\").load(\"/content/sample_data/delta/cleaned_students\")\n",
        "\n",
        "# Perform analysis\n",
        "average_score = cleaned_students_df.select(avg(col(\"Score\")).alias(\"AverageScore\"))\n",
        "average_score.show()\n",
        "\n",
        "# Save analysis results\n",
        "average_delta_path = \"/content/sample_data/delta/average_scores\"\n",
        "average_score.write.format(\"delta\").mode(\"overwrite\").save(average_delta_path)"
      ]
    }
  ]
}