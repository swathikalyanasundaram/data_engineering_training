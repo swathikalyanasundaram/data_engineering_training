{
  "nbformat": 4,
  "nbformat_minor": 0,
  "metadata": {
    "colab": {
      "provenance": []
    },
    "kernelspec": {
      "name": "python3",
      "display_name": "Python 3"
    },
    "language_info": {
      "name": "python"
    }
  },
  "cells": [
    {
      "cell_type": "code",
      "execution_count": 1,
      "metadata": {
        "colab": {
          "base_uri": "https://localhost:8080/"
        },
        "id": "N6QgeYgl9NLQ",
        "outputId": "377729b4-99ea-4af1-e100-823b1e068e24"
      },
      "outputs": [
        {
          "output_type": "stream",
          "name": "stdout",
          "text": [
            "Collecting pyspark\n",
            "  Downloading pyspark-3.5.2.tar.gz (317.3 MB)\n",
            "\u001b[2K     \u001b[90m━━━━━━━━━━━━━━━━━━━━━━━━━━━━━━━━━━━━━━━━\u001b[0m \u001b[32m317.3/317.3 MB\u001b[0m \u001b[31m4.1 MB/s\u001b[0m eta \u001b[36m0:00:00\u001b[0m\n",
            "\u001b[?25h  Preparing metadata (setup.py) ... \u001b[?25l\u001b[?25hdone\n",
            "Requirement already satisfied: py4j==0.10.9.7 in /usr/local/lib/python3.10/dist-packages (from pyspark) (0.10.9.7)\n",
            "Building wheels for collected packages: pyspark\n",
            "  Building wheel for pyspark (setup.py) ... \u001b[?25l\u001b[?25hdone\n",
            "  Created wheel for pyspark: filename=pyspark-3.5.2-py2.py3-none-any.whl size=317812365 sha256=5e1e382d09834dc70aab95d7e4b0ea06836effb997cc7264cc6714b8b423c85d\n",
            "  Stored in directory: /root/.cache/pip/wheels/34/34/bd/03944534c44b677cd5859f248090daa9fb27b3c8f8e5f49574\n",
            "Successfully built pyspark\n",
            "Installing collected packages: pyspark\n",
            "Successfully installed pyspark-3.5.2\n"
          ]
        }
      ],
      "source": [
        "!pip install pyspark"
      ]
    },
    {
      "cell_type": "code",
      "source": [
        "# ### **Exercise: Working with Key-Value Pair RDDs in PySpark**\n",
        "sales_data = [\n",
        "    (\"ProductA\", 100),\n",
        "    (\"ProductB\", 150),\n",
        "    (\"ProductA\", 200),\n",
        "    (\"ProductC\", 300),\n",
        "    (\"ProductB\", 250),\n",
        "    (\"ProductC\", 100)\n",
        "]\n",
        "regional_sales_data = [\n",
        "    (\"ProductA\", 50),\n",
        "    (\"ProductC\", 150)\n",
        "]"
      ],
      "metadata": {
        "id": "8uH2q9RmTl9V"
      },
      "execution_count": 27,
      "outputs": []
    },
    {
      "cell_type": "code",
      "source": [
        "# ### **Step 1: Initialize Spark Context**\n",
        "\n",
        "# 1. **Initialize SparkSession and SparkContext:**\n",
        "#    - Create a Spark session in PySpark and use the `spark.sparkContext` to create an RDD from the provided data.\n",
        "\n",
        "from pyspark.sql import SparkSession\n",
        "\n",
        "# Create a Spark session\n",
        "spark = SparkSession.builder.appName(\"Exercise:03\").getOrCreate()\n",
        "\n",
        "# Get the SparkContext from the SparkSession\n",
        "sc = spark.sparkContext"
      ],
      "metadata": {
        "id": "0o9xIrIkUIZu"
      },
      "execution_count": 28,
      "outputs": []
    },
    {
      "cell_type": "code",
      "source": [
        "# ### **Step 2: Create and Explore the RDD**\n",
        "\n",
        "# 2. **Task 1: Create an RDD from the Sales Data**\n",
        "#    - Create an RDD from the `sales_data` list provided above.\n",
        "#    - Print the first few elements of the RDD.\n",
        "\n",
        "sales_rdd = sc.parallelize(sales_data)\n",
        "regional_sales_rdd = sc.parallelize(regional_sales_data)\n",
        "\n",
        "print(sales_rdd.take(5))\n",
        "print(regional_sales_rdd.take(5))"
      ],
      "metadata": {
        "colab": {
          "base_uri": "https://localhost:8080/"
        },
        "id": "7VIkrlN4UVzb",
        "outputId": "d9122225-5839-4430-f973-4c382844c28d"
      },
      "execution_count": 29,
      "outputs": [
        {
          "output_type": "stream",
          "name": "stdout",
          "text": [
            "[('ProductA', 100), ('ProductB', 150), ('ProductA', 200), ('ProductC', 300), ('ProductB', 250)]\n",
            "[('ProductA', 50), ('ProductC', 150)]\n"
          ]
        }
      ]
    },
    {
      "cell_type": "code",
      "source": [
        "# ### **Step 3: Grouping and Aggregating Data**\n",
        "\n",
        "# 3. **Task 2: Group Data by Product Name**\n",
        "#    - Group the sales data by product name using `groupByKey()`.\n",
        "#    - Print the grouped data to understand its structure.\n",
        "\n",
        "grouped_sales = sales_rdd.groupByKey().mapValues(list)\n",
        "grouped_regional_sales = regional_sales_rdd.groupByKey().mapValues(list)\n",
        "\n",
        "print(grouped_sales.collect())\n",
        "print(grouped_regional_sales.collect())\n",
        "\n",
        "# 4. **Task 3: Calculate Total Sales by Product**\n",
        "#    - Use `reduceByKey()` to calculate the total sales for each product.\n",
        "#    - Print the total sales for each product.\n",
        "\n",
        "total_sales = sales_rdd.reduceByKey(lambda x, y: x + y)\n",
        "total_regional_sales = regional_sales_rdd.reduceByKey(lambda x, y: x + y)\n",
        "\n",
        "print(total_sales.collect())\n",
        "print(total_regional_sales.collect())\n",
        "\n",
        "# 5. **Task 4: Sort Products by Total Sales**\n",
        "#    - Sort the products by their total sales in descending order.\n",
        "#    - Print the sorted list of products along with their sales amounts.\n",
        "\n",
        "sorted_sales = total_sales.sortBy(lambda x: x[1], ascending=False)\n",
        "sorted_regional_sales = total_regional_sales.sortBy(lambda x: x[1], ascending=False)\n",
        "\n",
        "print(sorted_sales.collect())\n",
        "print(sorted_regional_sales.collect())"
      ],
      "metadata": {
        "colab": {
          "base_uri": "https://localhost:8080/"
        },
        "id": "772dykhDU-mC",
        "outputId": "7f1ed5d7-4ff9-4d1d-aa30-2f77ebe37baf"
      },
      "execution_count": 30,
      "outputs": [
        {
          "output_type": "stream",
          "name": "stdout",
          "text": [
            "[('ProductA', [100, 200]), ('ProductB', [150, 250]), ('ProductC', [300, 100])]\n",
            "[('ProductA', [50]), ('ProductC', [150])]\n",
            "[('ProductA', 300), ('ProductB', 400), ('ProductC', 400)]\n",
            "[('ProductA', 50), ('ProductC', 150)]\n",
            "[('ProductB', 400), ('ProductC', 400), ('ProductA', 300)]\n",
            "[('ProductC', 150), ('ProductA', 50)]\n"
          ]
        }
      ]
    },
    {
      "cell_type": "code",
      "source": [
        "# ### **Step 4: Additional Transformations**\n",
        "\n",
        "# 6. **Task 5: Filter Products with High Sales**\n",
        "#    - Filter the products that have total sales greater than 200.\n",
        "#    - Print the products that meet this condition.\n",
        "\n",
        "high_sales_products = total_sales.filter(lambda x: x[1] > 200)\n",
        "high_regional_sales_products = total_regional_sales.filter(lambda x: x[1] > 200)\n",
        "\n",
        "print(high_sales_products.collect())\n",
        "print(high_regional_sales_products.collect())\n",
        "\n",
        "# 7. **Task 6: Combine Regional Sales Data**\n",
        "#    - Create another RDD from the `regional_sales_data` list.\n",
        "#    - Combine this RDD with the original sales RDD using `union()`.\n",
        "#    - Calculate the new total sales for each product after combining the datasets.\n",
        "#    - Print the combined sales data.\n",
        "\n",
        "combined_sales = sales_rdd.union(regional_sales_rdd)\n",
        "combined_total_sales = combined_sales.reduceByKey(lambda x, y: x + y)\n",
        "\n",
        "print(combined_sales.collect())\n",
        "print(combined_total_sales.collect())\n"
      ],
      "metadata": {
        "colab": {
          "base_uri": "https://localhost:8080/"
        },
        "id": "3COsl2O0Vylz",
        "outputId": "8ccc335a-5c20-417f-fdcb-da67b6234514"
      },
      "execution_count": 31,
      "outputs": [
        {
          "output_type": "stream",
          "name": "stdout",
          "text": [
            "[('ProductA', 300), ('ProductB', 400), ('ProductC', 400)]\n",
            "[]\n",
            "[('ProductA', 100), ('ProductB', 150), ('ProductA', 200), ('ProductC', 300), ('ProductB', 250), ('ProductC', 100), ('ProductA', 50), ('ProductC', 150)]\n",
            "[('ProductA', 350), ('ProductC', 550), ('ProductB', 400)]\n"
          ]
        }
      ]
    },
    {
      "cell_type": "code",
      "source": [
        "# ### **Step 5: Perform Actions on the RDD**\n",
        "\n",
        "# 8. **Task 7: Count the Number of Distinct Products**\n",
        "#    - Count the number of distinct products in the RDD.\n",
        "#    - Print the count of distinct products.\n",
        "\n",
        "count_distinct_products = sales_rdd.map(lambda x: x[0]).distinct().count()\n",
        "count_distinct_regional_products = regional_sales_rdd.map(lambda x: x[0]).distinct().count()\n",
        "\n",
        "print(count_distinct_products)\n",
        "\n",
        "# 9. **Task 8: Identify the Product with Maximum Sales**\n",
        "#    - Find the product with the maximum total sales using `reduce()`.\n",
        "#    - Print the product name and its total sales amount.\n",
        "\n",
        "max_sales_product = total_sales.reduce(lambda x, y: x if x[1] > y[1] else y)\n",
        "max_regional_sales_product = total_regional_sales.reduce(lambda x, y: x if x[1] > y[1] else y)\n",
        "\n",
        "print(max_sales_product)\n",
        "print(max_regional_sales_product)"
      ],
      "metadata": {
        "colab": {
          "base_uri": "https://localhost:8080/"
        },
        "id": "ZOQnWBjhYIU7",
        "outputId": "4daed597-95f1-4da0-89d6-4e2d7c67f7db"
      },
      "execution_count": 32,
      "outputs": [
        {
          "output_type": "stream",
          "name": "stdout",
          "text": [
            "3\n",
            "('ProductC', 400)\n",
            "('ProductC', 150)\n"
          ]
        }
      ]
    },
    {
      "cell_type": "code",
      "source": [
        "# ### **Challenge Task: Calculate the Average Sales per Product**\n",
        "\n",
        "# 10. **Challenge Task:**\n",
        "#     - Calculate the average sales amount per product using the key-value pair RDD.\n",
        "#     - Print the average sales for each product.\n",
        "\n",
        "average_sales_per_product = total_sales.mapValues(lambda x: x / count_distinct_products)\n",
        "average_regional_sales_per_product = total_regional_sales.mapValues(lambda x: x / count_distinct_regional_products)\n",
        "\n",
        "print(average_sales_per_product.collect())\n",
        "print(average_regional_sales_per_product.collect())"
      ],
      "metadata": {
        "colab": {
          "base_uri": "https://localhost:8080/"
        },
        "id": "d18D4zVEYeV4",
        "outputId": "82346b83-5a40-4638-bb01-cce768d42b5c"
      },
      "execution_count": 35,
      "outputs": [
        {
          "output_type": "stream",
          "name": "stdout",
          "text": [
            "[('ProductA', 100.0), ('ProductB', 133.33333333333334), ('ProductC', 133.33333333333334)]\n",
            "[('ProductA', 25.0), ('ProductC', 75.0)]\n"
          ]
        }
      ]
    }
  ]
}