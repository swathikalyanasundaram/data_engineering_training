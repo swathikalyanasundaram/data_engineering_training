{
 "cells": [
  {
   "cell_type": "markdown",
   "metadata": {
    "application/vnd.databricks.v1+cell": {
     "cellMetadata": {},
     "inputWidgets": {},
     "nuid": "8a184224-83cc-4db3-bdf0-88877ddc4273",
     "showTitle": false,
     "title": ""
    }
   },
   "source": [
    "1. Create Delta Tables Using 3 Methods"
   ]
  },
  {
   "cell_type": "code",
   "execution_count": 0,
   "metadata": {
    "application/vnd.databricks.v1+cell": {
     "cellMetadata": {
      "byteLimit": 2048000,
      "rowLimit": 10000
     },
     "inputWidgets": {},
     "nuid": "cc81f490-9d6d-4c32-b89a-04689ccafcc1",
     "showTitle": false,
     "title": ""
    }
   },
   "outputs": [
    {
     "output_type": "stream",
     "name": "stdout",
     "output_type": "stream",
     "text": [
      "+-------+----------+----------+--------+--------+-----+\n|OrderID| OrderDate|CustomerID| Product|Quantity|Price|\n+-------+----------+----------+--------+--------+-----+\n|   1001|2024-01-15|      C001|Widget A|      10|25.50|\n|   1002|2024-01-16|      C002|Widget B|       5|15.75|\n|   1003|2024-01-16|      C001|Widget C|       8|22.50|\n|   1004|2024-01-17|      C003|Widget A|      15|25.50|\n|   1005|2024-01-18|      C004|Widget D|       7|30.00|\n|   1006|2024-01-19|      C002|Widget B|       9|15.75|\n|   1007|2024-01-20|      C005|Widget C|      12|22.50|\n|   1008|2024-01-21|      C003|Widget A|      10|25.50|\n+-------+----------+----------+--------+--------+-----+\n\n"
     ]
    }
   ],
   "source": [
    "dbutils.fs.cp(\"file:/Workspace/Shared/sales_dataa.csv\",\"dbfs:/FileStore/sales_dataa.csv\")\n",
    "\n",
    "sales_df=spark.read.format(\"csv\").option(\"header\",\"true\").load(\"/FileStore/sales_dataa.csv\")\n",
    "sales_df.show()\n"
   ]
  },
  {
   "cell_type": "code",
   "execution_count": 0,
   "metadata": {
    "application/vnd.databricks.v1+cell": {
     "cellMetadata": {
      "byteLimit": 2048000,
      "rowLimit": 10000
     },
     "inputWidgets": {},
     "nuid": "7ccb8c9a-b744-46cb-9ce0-37863df373f2",
     "showTitle": false,
     "title": ""
    }
   },
   "outputs": [],
   "source": [
    "from pyspark.sql.types import StructType, StructField, StringType, DateType\n",
    "\n",
    "# Define the schema\n",
    "customer_schema = StructType([\n",
    "    StructField(\"CustomerID\", StringType(), True),\n",
    "    StructField(\"CustomerName\", StringType(), True),\n",
    "    StructField(\"Region\", StringType(), True),\n",
    "    StructField(\"SignupDate\", StringType(), True)  # Keep as StringType to convert later\n",
    "])\n",
    "\n",
    "# Load the JSON with the defined schema\n",
    "customer_df = spark.read.format(\"json\").schema(customer_schema).load(\"/FileStore/cust_data.json\")\n"
   ]
  },
  {
   "cell_type": "code",
   "execution_count": 0,
   "metadata": {
    "application/vnd.databricks.v1+cell": {
     "cellMetadata": {
      "byteLimit": 2048000,
      "rowLimit": 10000
     },
     "inputWidgets": {},
     "nuid": "f12e7667-9a1a-45d2-8072-e7245227d085",
     "showTitle": false,
     "title": ""
    }
   },
   "outputs": [],
   "source": [
    "#DataFrame as a Delta Table\n",
    "sales_df.write.format(\"delta\").mode(\"overwrite\").save(\"/delta/sales_dataa_delta\")\n",
    "\n"
   ]
  },
  {
   "cell_type": "code",
   "execution_count": 0,
   "metadata": {
    "application/vnd.databricks.v1+cell": {
     "cellMetadata": {
      "byteLimit": 2048000,
      "rowLimit": 10000
     },
     "inputWidgets": {},
     "nuid": "0fb947fc-12bc-431e-ba9b-089a51aafc97",
     "showTitle": false,
     "title": ""
    }
   },
   "outputs": [
    {
     "output_type": "stream",
     "name": "stdout",
     "output_type": "stream",
     "text": [
      "+----------+-------------+------+----------+\n|CustomerID| CustomerName|Region|SignupDate|\n+----------+-------------+------+----------+\n|      C001|     John Doe| North|2022-07-01|\n|      C002|   Jane Smith| South|2023-02-15|\n|      C003|Emily Johnson|  East|2021-11-20|\n|      C004|Michael Brown|  West|2022-12-05|\n|      C005|  Linda Davis| North|2023-03-10|\n+----------+-------------+------+----------+\n\n"
     ]
    }
   ],
   "source": [
    "#Load the customer_data.json file into a DataFrame.\n",
    "\n",
    "dbutils.fs.cp(\"file:/Workspace/Shared/cust_data.json\", \"dbfs:/FileStore/cust_data.json\")\n",
    "\n",
    "# Load customer data from JSON\n",
    "customer_df = spark.read.option(\"multiline\", \"true\").json(\"/FileStore/cust_data.json\")\n",
    "\n",
    "customer_df.show()\n"
   ]
  },
  {
   "cell_type": "code",
   "execution_count": 0,
   "metadata": {
    "application/vnd.databricks.v1+cell": {
     "cellMetadata": {
      "byteLimit": 2048000,
      "rowLimit": 10000
     },
     "inputWidgets": {},
     "nuid": "be506501-d8f6-4462-82f6-fb073101a97d",
     "showTitle": false,
     "title": ""
    }
   },
   "outputs": [
    {
     "output_type": "stream",
     "name": "stdout",
     "output_type": "stream",
     "text": [
      "+----------+-------------+------+----------+\n|CustomerID| CustomerName|Region|SignupDate|\n+----------+-------------+------+----------+\n|      C001|     John Doe| North|2022-07-01|\n|      C002|   Jane Smith| South|2023-02-15|\n|      C003|Emily Johnson|  East|2021-11-20|\n|      C004|Michael Brown|  West|2022-12-05|\n|      C005|  Linda Davis| North|2023-03-10|\n+----------+-------------+------+----------+\n\n"
     ]
    }
   ],
   "source": [
    "#Cust table as a delta table\n",
    "# Write customer data as a Delta table\n",
    "customer_df.write.format(\"delta\").mode(\"overwrite\").save(\"/delta/customer_data_delta\")\n",
    "\n",
    "customer_delta_df = spark.read.format(\"delta\").load(\"/delta/customer_data_delta\")\n",
    "customer_delta_df.show()\n",
    "\n"
   ]
  },
  {
   "cell_type": "code",
   "execution_count": 0,
   "metadata": {
    "application/vnd.databricks.v1+cell": {
     "cellMetadata": {
      "byteLimit": 2048000,
      "rowLimit": 10000
     },
     "inputWidgets": {},
     "nuid": "e830231a-79e5-4cb1-9f14-e870e323d13e",
     "showTitle": false,
     "title": ""
    }
   },
   "outputs": [],
   "source": [
    "# Create a sample DataFrame\n",
    "sample_data = [(\"John\", 30), (\"Jane\", 25), (\"Sam\", 35)]\n",
    "columns = [\"Name\", \"Age\"]\n",
    "sample_df = spark.createDataFrame(sample_data, columns)\n",
    "\n",
    "# Write the DataFrame as a Parquet file\n",
    "sample_df.write.mode(\"overwrite\").parquet(\"/FileStore/sample_parquet_file.parquet\")\n"
   ]
  },
  {
   "cell_type": "code",
   "execution_count": 0,
   "metadata": {
    "application/vnd.databricks.v1+cell": {
     "cellMetadata": {
      "byteLimit": 2048000,
      "rowLimit": 10000
     },
     "inputWidgets": {},
     "nuid": "7c81f2b2-e9c6-4c63-b57f-594506e1c6ca",
     "showTitle": false,
     "title": ""
    }
   },
   "outputs": [],
   "source": [
    "# Load the Parquet file\n",
    "parquet_df = spark.read.parquet(\"/FileStore/sample_parquet_file.parquet\")\n",
    "\n",
    "# Convert the Parquet file to a Delta Table\n",
    "parquet_df.write.format(\"delta\").mode(\"overwrite\").save(\"/delta/sample_parquet_to_delta\")"
   ]
  },
  {
   "cell_type": "code",
   "execution_count": 0,
   "metadata": {
    "application/vnd.databricks.v1+cell": {
     "cellMetadata": {
      "byteLimit": 2048000,
      "rowLimit": 10000
     },
     "inputWidgets": {},
     "nuid": "16facfb1-f433-4d8d-960e-8fad8bd8eb71",
     "showTitle": false,
     "title": ""
    }
   },
   "outputs": [
    {
     "output_type": "execute_result",
     "data": {
      "text/plain": [
       "True"
      ]
     },
     "execution_count": 34,
     "metadata": {},
     "output_type": "execute_result"
    }
   ],
   "source": [
    "dbutils.fs.cp(\"file:/Workspace/Shared/new_sales_data.csv\", \"dbfs:/FileStore/new_sales_data.csv\")"
   ]
  },
  {
   "cell_type": "markdown",
   "metadata": {
    "application/vnd.databricks.v1+cell": {
     "cellMetadata": {},
     "inputWidgets": {},
     "nuid": "a0c41a72-9698-446a-a709-a66d40aaeee7",
     "showTitle": false,
     "title": ""
    }
   },
   "source": [
    "2. Data Management"
   ]
  },
  {
   "cell_type": "code",
   "execution_count": 0,
   "metadata": {
    "application/vnd.databricks.v1+cell": {
     "cellMetadata": {
      "byteLimit": 2048000,
      "rowLimit": 10000
     },
     "inputWidgets": {},
     "nuid": "61b0dd0e-9174-44a8-98fe-8ca338b3bf90",
     "showTitle": false,
     "title": ""
    }
   },
   "outputs": [
    {
     "output_type": "stream",
     "name": "stdout",
     "output_type": "stream",
     "text": [
      "+-------+----------+----------+--------+--------+-----+\n|OrderID| OrderDate|CustomerID| Product|Quantity|Price|\n+-------+----------+----------+--------+--------+-----+\n|   1009|2024-01-22|      C006|Widget E|      14| 20.0|\n|   1010|2024-01-23|      C007|Widget F|       6| 35.0|\n|   1002|2024-01-16|      C002|Widget B|      10|15.75|\n+-------+----------+----------+--------+--------+-----+\n\n"
     ]
    }
   ],
   "source": [
    "dbutils.fs.cp(\"file:/Workspace/Shared/new_sales_data.csv\", \"dbfs:/FileStore/new_sales_data.csv\")\n",
    "# Load new sales data into DataFrame\n",
    "new_sales_df = spark.read.format(\"csv\").option(\"header\", \"true\").option(\"inferSchema\", \"true\").load(\"/FileStore/new_sales_data.csv\")\n",
    "new_sales_df.show()\n"
   ]
  },
  {
   "cell_type": "code",
   "execution_count": 0,
   "metadata": {
    "application/vnd.databricks.v1+cell": {
     "cellMetadata": {
      "byteLimit": 2048000,
      "rowLimit": 10000
     },
     "inputWidgets": {},
     "nuid": "a2ab0327-505e-499f-b6b5-ecc3f4236eff",
     "showTitle": false,
     "title": ""
    }
   },
   "outputs": [],
   "source": [
    "from delta.tables import *\n",
    "\n",
    "# Load existing Delta table\n",
    "delta_table =spark.read.format(\"delta\").load(\"/delta/sales_dataa_delta\")\n",
    "delta_new_sales=spark.read.format(\"delta\").load(\"/delta/sales_dataa_delta\")\n",
    "# Create temporary views for SQL operations\n",
    "delta_table.createOrReplaceTempView(\"delta_sales_data\")\n",
    "delta_new_sales.createOrReplaceTempView(\"new_sales_data\")"
   ]
  },
  {
   "cell_type": "code",
   "execution_count": 0,
   "metadata": {
    "application/vnd.databricks.v1+cell": {
     "cellMetadata": {
      "byteLimit": 2048000,
      "rowLimit": 10000
     },
     "inputWidgets": {},
     "nuid": "70fa99f2-aa4d-490f-85dc-74c7e8b70ec0",
     "showTitle": false,
     "title": ""
    }
   },
   "outputs": [
    {
     "output_type": "execute_result",
     "data": {
      "text/plain": [
       "DataFrame[num_affected_rows: bigint, num_updated_rows: bigint, num_deleted_rows: bigint, num_inserted_rows: bigint]"
      ]
     },
     "execution_count": 42,
     "metadata": {},
     "output_type": "execute_result"
    }
   ],
   "source": [
    "# Merge new sales data into existing Delta Table\n",
    "\n",
    "spark.sql(\"\"\"\n",
    "          MERGE INTO delta_sales_data AS target\n",
    "          USING new_sales_data AS source\n",
    "          ON target.OrderID = source.OrderID\n",
    "          WHEN MATCHED THEN UPDATE SET \n",
    "              target.OrderDate = source.OrderDate, \n",
    "              target.CustomerID = source.CustomerID,   \n",
    "              target.Product = source.Product,\n",
    "              target.Quantity = source.Quantity, \n",
    "              target.Price = source.Price\n",
    "          WHEN NOT MATCHED THEN INSERT (OrderID, OrderDate, CustomerID, Product, Quantity, Price)\n",
    "          VALUES (source.OrderID, source.OrderDate, source.CustomerID, source.Product, source.Quantity, source.Price)\n",
    "\"\"\")\n"
   ]
  },
  {
   "cell_type": "markdown",
   "metadata": {
    "application/vnd.databricks.v1+cell": {
     "cellMetadata": {},
     "inputWidgets": {},
     "nuid": "f7bab518-764c-4692-a8f3-699928cf9217",
     "showTitle": false,
     "title": ""
    }
   },
   "source": [
    "3. Optimize Delta Table"
   ]
  },
  {
   "cell_type": "code",
   "execution_count": 0,
   "metadata": {
    "application/vnd.databricks.v1+cell": {
     "cellMetadata": {
      "byteLimit": 2048000,
      "implicitDf": true,
      "rowLimit": 10000
     },
     "inputWidgets": {},
     "nuid": "1d43d731-221d-4533-8aa2-8e127fe0a37d",
     "showTitle": false,
     "title": ""
    }
   },
   "outputs": [
    {
     "output_type": "display_data",
     "data": {
      "text/html": [
       "<style scoped>\n",
       "  .table-result-container {\n",
       "    max-height: 300px;\n",
       "    overflow: auto;\n",
       "  }\n",
       "  table, th, td {\n",
       "    border: 1px solid black;\n",
       "    border-collapse: collapse;\n",
       "  }\n",
       "  th, td {\n",
       "    padding: 5px;\n",
       "  }\n",
       "  th {\n",
       "    text-align: left;\n",
       "  }\n",
       "</style><div class='table-result-container'><table class='table-result'><thead style='background-color: white'><tr><th>path</th><th>metrics</th></tr></thead><tbody><tr><td>dbfs:/delta/sales_dataa_delta</td><td>List(0, 0, List(null, null, 0.0, 0, 0), List(null, null, 0.0, 0, 0), 0, List(minCubeSize(107374182400), List(0, 0), List(1, 1792), 0, List(0, 0), 0, null), 0, 1, 1, false, 0, 0, 1726211553584, 1726211554094, 4, 0, null, List(0, 0), 6, 6, 0, 0, null)</td></tr></tbody></table></div>"
      ]
     },
     "metadata": {
      "application/vnd.databricks.v1+output": {
       "addedWidgets": {},
       "aggData": [],
       "aggError": "",
       "aggOverflow": false,
       "aggSchema": [],
       "aggSeriesLimitReached": false,
       "aggType": "",
       "arguments": {},
       "columnCustomDisplayInfos": {},
       "data": [
        [
         "dbfs:/delta/sales_dataa_delta",
         [
          0,
          0,
          [
           null,
           null,
           0.0,
           0,
           0
          ],
          [
           null,
           null,
           0.0,
           0,
           0
          ],
          0,
          [
           "minCubeSize(107374182400)",
           [
            0,
            0
           ],
           [
            1,
            1792
           ],
           0,
           [
            0,
            0
           ],
           0,
           null
          ],
          0,
          1,
          1,
          false,
          0,
          0,
          1726211553584,
          1726211554094,
          4,
          0,
          null,
          [
           0,
           0
          ],
          6,
          6,
          0,
          0,
          null
         ]
        ]
       ],
       "datasetInfos": [],
       "dbfsResultPath": null,
       "isJsonSchema": true,
       "metadata": {
        "dataframeName": "_sqldf",
        "executionCount": 13
       },
       "overflow": false,
       "plotOptions": {
        "customPlotOptions": {},
        "displayType": "table",
        "pivotAggregation": null,
        "pivotColumns": null,
        "xColumns": null,
        "yColumns": null
       },
       "removedWidgets": [],
       "schema": [
        {
         "metadata": "{}",
         "name": "path",
         "type": "\"string\""
        },
        {
         "metadata": "{}",
         "name": "metrics",
         "type": "{\"type\":\"struct\",\"fields\":[{\"name\":\"numFilesAdded\",\"type\":\"long\",\"nullable\":false,\"metadata\":{}},{\"name\":\"numFilesRemoved\",\"type\":\"long\",\"nullable\":false,\"metadata\":{}},{\"name\":\"filesAdded\",\"type\":{\"type\":\"struct\",\"fields\":[{\"name\":\"min\",\"type\":\"long\",\"nullable\":true,\"metadata\":{}},{\"name\":\"max\",\"type\":\"long\",\"nullable\":true,\"metadata\":{}},{\"name\":\"avg\",\"type\":\"double\",\"nullable\":false,\"metadata\":{}},{\"name\":\"totalFiles\",\"type\":\"long\",\"nullable\":false,\"metadata\":{}},{\"name\":\"totalSize\",\"type\":\"long\",\"nullable\":false,\"metadata\":{}}]},\"nullable\":true,\"metadata\":{}},{\"name\":\"filesRemoved\",\"type\":{\"type\":\"struct\",\"fields\":[{\"name\":\"min\",\"type\":\"long\",\"nullable\":true,\"metadata\":{}},{\"name\":\"max\",\"type\":\"long\",\"nullable\":true,\"metadata\":{}},{\"name\":\"avg\",\"type\":\"double\",\"nullable\":false,\"metadata\":{}},{\"name\":\"totalFiles\",\"type\":\"long\",\"nullable\":false,\"metadata\":{}},{\"name\":\"totalSize\",\"type\":\"long\",\"nullable\":false,\"metadata\":{}}]},\"nullable\":true,\"metadata\":{}},{\"name\":\"partitionsOptimized\",\"type\":\"long\",\"nullable\":false,\"metadata\":{}},{\"name\":\"zOrderStats\",\"type\":{\"type\":\"struct\",\"fields\":[{\"name\":\"strategyName\",\"type\":\"string\",\"nullable\":true,\"metadata\":{}},{\"name\":\"inputCubeFiles\",\"type\":{\"type\":\"struct\",\"fields\":[{\"name\":\"num\",\"type\":\"long\",\"nullable\":false,\"metadata\":{}},{\"name\":\"size\",\"type\":\"long\",\"nullable\":false,\"metadata\":{}}]},\"nullable\":true,\"metadata\":{}},{\"name\":\"inputOtherFiles\",\"type\":{\"type\":\"struct\",\"fields\":[{\"name\":\"num\",\"type\":\"long\",\"nullable\":false,\"metadata\":{}},{\"name\":\"size\",\"type\":\"long\",\"nullable\":false,\"metadata\":{}}]},\"nullable\":true,\"metadata\":{}},{\"name\":\"inputNumCubes\",\"type\":\"long\",\"nullable\":false,\"metadata\":{}},{\"name\":\"mergedFiles\",\"type\":{\"type\":\"struct\",\"fields\":[{\"name\":\"num\",\"type\":\"long\",\"nullable\":false,\"metadata\":{}},{\"name\":\"size\",\"type\":\"long\",\"nullable\":false,\"metadata\":{}}]},\"nullable\":true,\"metadata\":{}},{\"name\":\"numOutputCubes\",\"type\":\"long\",\"nullable\":false,\"metadata\":{}},{\"name\":\"mergedNumCubes\",\"type\":\"long\",\"nullable\":true,\"metadata\":{}}]},\"nullable\":true,\"metadata\":{}},{\"name\":\"numBatches\",\"type\":\"long\",\"nullable\":false,\"metadata\":{}},{\"name\":\"totalConsideredFiles\",\"type\":\"long\",\"nullable\":false,\"metadata\":{}},{\"name\":\"totalFilesSkipped\",\"type\":\"long\",\"nullable\":false,\"metadata\":{}},{\"name\":\"preserveInsertionOrder\",\"type\":\"boolean\",\"nullable\":false,\"metadata\":{}},{\"name\":\"numFilesSkippedToReduceWriteAmplification\",\"type\":\"long\",\"nullable\":false,\"metadata\":{}},{\"name\":\"numBytesSkippedToReduceWriteAmplification\",\"type\":\"long\",\"nullable\":false,\"metadata\":{}},{\"name\":\"startTimeMs\",\"type\":\"long\",\"nullable\":false,\"metadata\":{}},{\"name\":\"endTimeMs\",\"type\":\"long\",\"nullable\":false,\"metadata\":{}},{\"name\":\"totalClusterParallelism\",\"type\":\"long\",\"nullable\":false,\"metadata\":{}},{\"name\":\"totalScheduledTasks\",\"type\":\"long\",\"nullable\":false,\"metadata\":{}},{\"name\":\"autoCompactParallelismStats\",\"type\":{\"type\":\"struct\",\"fields\":[{\"name\":\"maxClusterActiveParallelism\",\"type\":\"long\",\"nullable\":true,\"metadata\":{}},{\"name\":\"minClusterActiveParallelism\",\"type\":\"long\",\"nullable\":true,\"metadata\":{}},{\"name\":\"maxSessionActiveParallelism\",\"type\":\"long\",\"nullable\":true,\"metadata\":{}},{\"name\":\"minSessionActiveParallelism\",\"type\":\"long\",\"nullable\":true,\"metadata\":{}}]},\"nullable\":true,\"metadata\":{}},{\"name\":\"deletionVectorStats\",\"type\":{\"type\":\"struct\",\"fields\":[{\"name\":\"numDeletionVectorsRemoved\",\"type\":\"long\",\"nullable\":false,\"metadata\":{}},{\"name\":\"numDeletionVectorRowsRemoved\",\"type\":\"long\",\"nullable\":false,\"metadata\":{}}]},\"nullable\":true,\"metadata\":{}},{\"name\":\"numTableColumns\",\"type\":\"long\",\"nullable\":false,\"metadata\":{}},{\"name\":\"numTableColumnsWithStats\",\"type\":\"long\",\"nullable\":false,\"metadata\":{}},{\"name\":\"totalTaskExecutionTimeMs\",\"type\":\"long\",\"nullable\":false,\"metadata\":{}},{\"name\":\"skippedArchivedFiles\",\"type\":\"long\",\"nullable\":false,\"metadata\":{}},{\"name\":\"clusteringMetrics\",\"type\":{\"type\":\"struct\",\"fields\":[{\"name\":\"sizeOfTableInBytesBeforeLazyClustering\",\"type\":\"long\",\"nullable\":false,\"metadata\":{}},{\"name\":\"isNewMetadataCreated\",\"type\":\"boolean\",\"nullable\":false,\"metadata\":{}},{\"name\":\"isPOTriggered\",\"type\":\"boolean\",\"nullable\":false,\"metadata\":{}},{\"name\":\"numFilesSkippedWithoutStats\",\"type\":\"long\",\"nullable\":false,\"metadata\":{}},{\"name\":\"numFilesClassifiedToIntermediateNodes\",\"type\":\"long\",\"nullable\":false,\"metadata\":{}},{\"name\":\"sizeOfFilesClassifiedToIntermediateNodesInBytes\",\"type\":\"long\",\"nullable\":false,\"metadata\":{}},{\"name\":\"logicalSizeOfFilesClassifiedToIntermediateNodesInBytes\",\"type\":\"long\",\"nullable\":false,\"metadata\":{}},{\"name\":\"numFilesClassifiedToLeafNodes\",\"type\":\"long\",\"nullable\":false,\"metadata\":{}},{\"name\":\"sizeOfFilesClassifiedToLeafNodesInBytes\",\"type\":\"long\",\"nullable\":false,\"metadata\":{}},{\"name\":\"logicalSizeOfFilesClassifiedToLeafNodesInBytes\",\"type\":\"long\",\"nullable\":false,\"metadata\":{}},{\"name\":\"numThreadsForClassifier\",\"type\":\"integer\",\"nullable\":true,\"metadata\":{}},{\"name\":\"clusterThresholdStrategy\",\"type\":\"string\",\"nullable\":true,\"metadata\":{}},{\"name\":\"minFileSize\",\"type\":\"long\",\"nullable\":false,\"metadata\":{}},{\"name\":\"maxFileSize\",\"type\":\"long\",\"nullable\":false,\"metadata\":{}},{\"name\":\"nodeMinNumFilesToCompact\",\"type\":\"long\",\"nullable\":false,\"metadata\":{}},{\"name\":\"numIdealFiles\",\"type\":\"long\",\"nullable\":false,\"metadata\":{}},{\"name\":\"numClusteringTasksPlanned\",\"type\":\"integer\",\"nullable\":false,\"metadata\":{}},{\"name\":\"numCompactionTasksPlanned\",\"type\":\"integer\",\"nullable\":false,\"metadata\":{}},{\"name\":\"numOptimizeBatchesPlanned\",\"type\":\"integer\",\"nullable\":false,\"metadata\":{}},{\"name\":\"numLeafNodesExpanded\",\"type\":\"long\",\"nullable\":false,\"metadata\":{}},{\"name\":\"numLeafNodesClustered\",\"type\":\"long\",\"nullable\":false,\"metadata\":{}},{\"name\":\"numGetFilesForNodeCalls\",\"type\":\"long\",\"nullable\":false,\"metadata\":{}},{\"name\":\"numSamplingJobs\",\"type\":\"long\",\"nullable\":false,\"metadata\":{}},{\"name\":\"numLeafNodesCompacted\",\"type\":\"long\",\"nullable\":false,\"metadata\":{}},{\"name\":\"numIntermediateNodesCompacted\",\"type\":\"long\",\"nullable\":false,\"metadata\":{}},{\"name\":\"totalSizeOfDataToCompactInBytes\",\"type\":\"long\",\"nullable\":false,\"metadata\":{}},{\"name\":\"totalLogicalSizeOfDataToCompactInBytes\",\"type\":\"long\",\"nullable\":false,\"metadata\":{}},{\"name\":\"numIntermediateNodesClustered\",\"type\":\"long\",\"nullable\":false,\"metadata\":{}},{\"name\":\"numFilesSkippedAfterExpansion\",\"type\":\"long\",\"nullable\":false,\"metadata\":{}},{\"name\":\"totalSizeOfFilesSkippedAfterExpansionInBytes\",\"type\":\"long\",\"nullable\":false,\"metadata\":{}},{\"name\":\"totalLogicalSizeOfFilesSkippedAfterExpansionInBytes\",\"type\":\"long\",\"nullable\":false,\"metadata\":{}},{\"name\":\"totalSizeOfDataToRewriteInBytes\",\"type\":\"long\",\"nullable\":false,\"metadata\":{}},{\"name\":\"totalLogicalSizeOfDataToRewriteInBytes\",\"type\":\"long\",\"nullable\":false,\"metadata\":{}},{\"name\":\"timeMetrics\",\"type\":{\"type\":\"struct\",\"fields\":[{\"name\":\"classifierTimeMs\",\"type\":\"long\",\"nullable\":false,\"metadata\":{}},{\"name\":\"optimizerTimeMs\",\"type\":\"long\",\"nullable\":false,\"metadata\":{}},{\"name\":\"metadataLoadTimeMs\",\"type\":\"long\",\"nullable\":false,\"metadata\":{}},{\"name\":\"totalGetFilesForNodeCallsTimeMs\",\"type\":\"long\",\"nullable\":false,\"metadata\":{}},{\"name\":\"totalSamplingTimeMs\",\"type\":\"long\",\"nullable\":false,\"metadata\":{}},{\"name\":\"metadataCreationTimeMs\",\"type\":\"long\",\"nullable\":false,\"metadata\":{}}]},\"nullable\":true,\"metadata\":{}},{\"name\":\"maxOptimizeBatchesInParallel\",\"type\":\"long\",\"nullable\":false,\"metadata\":{}},{\"name\":\"currentIteration\",\"type\":\"integer\",\"nullable\":false,\"metadata\":{}},{\"name\":\"maxIterations\",\"type\":\"integer\",\"nullable\":false,\"metadata\":{}},{\"name\":\"clusteringStrategy\",\"type\":\"string\",\"nullable\":true,\"metadata\":{}}]},\"nullable\":true,\"metadata\":{}}]}"
        }
       ],
       "type": "table"
      }
     },
     "output_type": "display_data"
    }
   ],
   "source": [
    "%sql\n",
    "OPTIMIZE delta.`/delta/sales_dataa_delta` ZORDER BY (CustomerID)\n",
    "\n"
   ]
  },
  {
   "cell_type": "markdown",
   "metadata": {
    "application/vnd.databricks.v1+cell": {
     "cellMetadata": {},
     "inputWidgets": {},
     "nuid": "e676654d-ddb1-484d-abd1-641eda890f72",
     "showTitle": false,
     "title": ""
    }
   },
   "source": [
    "4. Advanced Features\n"
   ]
  },
  {
   "cell_type": "code",
   "execution_count": 0,
   "metadata": {
    "application/vnd.databricks.v1+cell": {
     "cellMetadata": {
      "byteLimit": 2048000,
      "implicitDf": true,
      "rowLimit": 10000
     },
     "inputWidgets": {},
     "nuid": "68dca8d9-9f6c-4903-9dc0-2882e74aa454",
     "showTitle": false,
     "title": ""
    }
   },
   "outputs": [
    {
     "output_type": "display_data",
     "data": {
      "text/html": [
       "<style scoped>\n",
       "  .table-result-container {\n",
       "    max-height: 300px;\n",
       "    overflow: auto;\n",
       "  }\n",
       "  table, th, td {\n",
       "    border: 1px solid black;\n",
       "    border-collapse: collapse;\n",
       "  }\n",
       "  th, td {\n",
       "    padding: 5px;\n",
       "  }\n",
       "  th {\n",
       "    text-align: left;\n",
       "  }\n",
       "</style><div class='table-result-container'><table class='table-result'><thead style='background-color: white'><tr><th>version</th><th>timestamp</th><th>userId</th><th>userName</th><th>operation</th><th>operationParameters</th><th>job</th><th>notebook</th><th>clusterId</th><th>readVersion</th><th>isolationLevel</th><th>isBlindAppend</th><th>operationMetrics</th><th>userMetadata</th><th>engineInfo</th></tr></thead><tbody><tr><td>16</td><td>2024-09-13T09:47:21Z</td><td>7670452412022086</td><td>azuser2139_mml.local@techademy.com</td><td>MERGE</td><td>Map(predicate -> [\"(OrderID#12823 = OrderID#12835)\"], matchedPredicates -> [{\"actionType\":\"update\"}], statsOnLoad -> false, notMatchedBySourcePredicates -> [], notMatchedPredicates -> [{\"actionType\":\"insert\"}])</td><td>null</td><td>List(387350043725306)</td><td>0911-070944-tra6x1ll</td><td>15</td><td>WriteSerializable</td><td>false</td><td>Map(numTargetRowsCopied -> 0, numTargetRowsDeleted -> 0, numTargetFilesAdded -> 1, numTargetBytesAdded -> 1794, numTargetBytesRemoved -> 1794, numTargetDeletionVectorsAdded -> 0, numTargetRowsMatchedUpdated -> 10, executionTimeMs -> 1517, numTargetRowsInserted -> 0, numTargetRowsMatchedDeleted -> 0, numTargetDeletionVectorsUpdated -> 0, scanTimeMs -> 559, numTargetRowsUpdated -> 10, numOutputRows -> 10, numTargetDeletionVectorsRemoved -> 0, numTargetRowsNotMatchedBySourceUpdated -> 0, numTargetChangeFilesAdded -> 0, numSourceRows -> 10, numTargetFilesRemoved -> 1, numTargetRowsNotMatchedBySourceDeleted -> 0, rewriteTimeMs -> 813)</td><td>null</td><td>Databricks-Runtime/14.3.x-photon-scala2.12</td></tr><tr><td>15</td><td>2024-09-13T09:41:03Z</td><td>7670452412022086</td><td>azuser2139_mml.local@techademy.com</td><td>WRITE</td><td>Map(mode -> Overwrite, statsOnLoad -> false, partitionBy -> [])</td><td>null</td><td>List(387350043725306)</td><td>0911-070944-tra6x1ll</td><td>14</td><td>WriteSerializable</td><td>false</td><td>Map(numFiles -> 1, numOutputRows -> 10, numOutputBytes -> 1794)</td><td>null</td><td>Databricks-Runtime/14.3.x-photon-scala2.12</td></tr><tr><td>14</td><td>2024-09-13T07:39:16Z</td><td>7670452412022086</td><td>azuser2139_mml.local@techademy.com</td><td>VACUUM END</td><td>Map(status -> COMPLETED)</td><td>null</td><td>List(387350043725306)</td><td>0911-070944-tra6x1ll</td><td>13</td><td>SnapshotIsolation</td><td>true</td><td>Map(numDeletedFiles -> 3, numVacuumedDirectories -> 1)</td><td>null</td><td>Databricks-Runtime/14.3.x-photon-scala2.12</td></tr><tr><td>13</td><td>2024-09-13T07:39:11Z</td><td>7670452412022086</td><td>azuser2139_mml.local@techademy.com</td><td>VACUUM START</td><td>Map(retentionCheckEnabled -> false, defaultRetentionMillis -> 604800000, specifiedRetentionMillis -> 0)</td><td>null</td><td>List(387350043725306)</td><td>0911-070944-tra6x1ll</td><td>12</td><td>SnapshotIsolation</td><td>true</td><td>Map(numFilesToDelete -> 3, sizeOfDataToDelete -> 3380)</td><td>null</td><td>Databricks-Runtime/14.3.x-photon-scala2.12</td></tr><tr><td>12</td><td>2024-09-13T07:23:07Z</td><td>7670452412022086</td><td>azuser2139_mml.local@techademy.com</td><td>OPTIMIZE</td><td>Map(predicate -> [], zOrderBy -> [], batchId -> 0, auto -> true)</td><td>null</td><td>List(387350043725306)</td><td>0911-070944-tra6x1ll</td><td>11</td><td>SnapshotIsolation</td><td>false</td><td>Map(numRemovedFiles -> 2, numRemovedBytes -> 3287, p25FileSize -> 1794, numDeletionVectorsRemoved -> 1, minFileSize -> 1794, numAddedFiles -> 1, maxFileSize -> 1794, p75FileSize -> 1794, p50FileSize -> 1794, numAddedBytes -> 1794)</td><td>null</td><td>Databricks-Runtime/14.3.x-photon-scala2.12</td></tr><tr><td>11</td><td>2024-09-13T07:23:05Z</td><td>7670452412022086</td><td>azuser2139_mml.local@techademy.com</td><td>MERGE</td><td>Map(predicate -> [\"(OrderID#8544 = OrderID#8573)\"], matchedPredicates -> [{\"actionType\":\"update\"}], statsOnLoad -> false, notMatchedBySourcePredicates -> [], notMatchedPredicates -> [{\"actionType\":\"insert\"}])</td><td>null</td><td>List(387350043725306)</td><td>0911-070944-tra6x1ll</td><td>10</td><td>WriteSerializable</td><td>false</td><td>Map(numTargetRowsCopied -> 0, numTargetRowsDeleted -> 0, numTargetFilesAdded -> 1, numTargetBytesAdded -> 1495, numTargetBytesRemoved -> 0, numTargetDeletionVectorsAdded -> 1, numTargetRowsMatchedUpdated -> 3, executionTimeMs -> 2075, numTargetRowsInserted -> 0, numTargetRowsMatchedDeleted -> 0, numTargetDeletionVectorsUpdated -> 0, scanTimeMs -> 671, numTargetRowsUpdated -> 3, numOutputRows -> 3, numTargetDeletionVectorsRemoved -> 0, numTargetRowsNotMatchedBySourceUpdated -> 0, numTargetChangeFilesAdded -> 0, numSourceRows -> 3, numTargetFilesRemoved -> 0, numTargetRowsNotMatchedBySourceDeleted -> 0, rewriteTimeMs -> 1148)</td><td>null</td><td>Databricks-Runtime/14.3.x-photon-scala2.12</td></tr><tr><td>10</td><td>2024-09-13T07:17:34Z</td><td>7670452412022086</td><td>azuser2139_mml.local@techademy.com</td><td>VACUUM END</td><td>Map(status -> COMPLETED)</td><td>null</td><td>List(387350043725306)</td><td>0911-070944-tra6x1ll</td><td>9</td><td>SnapshotIsolation</td><td>true</td><td>Map(numDeletedFiles -> 8, numVacuumedDirectories -> 1)</td><td>null</td><td>Databricks-Runtime/14.3.x-photon-scala2.12</td></tr><tr><td>9</td><td>2024-09-13T07:17:28Z</td><td>7670452412022086</td><td>azuser2139_mml.local@techademy.com</td><td>VACUUM START</td><td>Map(retentionCheckEnabled -> false, defaultRetentionMillis -> 604800000, specifiedRetentionMillis -> 0)</td><td>null</td><td>List(387350043725306)</td><td>0911-070944-tra6x1ll</td><td>8</td><td>SnapshotIsolation</td><td>true</td><td>Map(numFilesToDelete -> 8, sizeOfDataToDelete -> 10111)</td><td>null</td><td>Databricks-Runtime/14.3.x-photon-scala2.12</td></tr><tr><td>8</td><td>2024-09-13T07:16:29Z</td><td>7670452412022086</td><td>azuser2139_mml.local@techademy.com</td><td>VACUUM END</td><td>Map(status -> COMPLETED)</td><td>null</td><td>List(387350043725306)</td><td>0911-070944-tra6x1ll</td><td>7</td><td>SnapshotIsolation</td><td>true</td><td>Map(numDeletedFiles -> 0, numVacuumedDirectories -> 1)</td><td>null</td><td>Databricks-Runtime/14.3.x-photon-scala2.12</td></tr><tr><td>7</td><td>2024-09-13T07:16:22Z</td><td>7670452412022086</td><td>azuser2139_mml.local@techademy.com</td><td>VACUUM START</td><td>Map(retentionCheckEnabled -> true, defaultRetentionMillis -> 604800000, specifiedRetentionMillis -> 604800000)</td><td>null</td><td>List(387350043725306)</td><td>0911-070944-tra6x1ll</td><td>6</td><td>SnapshotIsolation</td><td>true</td><td>Map(numFilesToDelete -> 0, sizeOfDataToDelete -> 0)</td><td>null</td><td>Databricks-Runtime/14.3.x-photon-scala2.12</td></tr><tr><td>6</td><td>2024-09-13T07:07:59Z</td><td>7670452412022086</td><td>azuser2139_mml.local@techademy.com</td><td>OPTIMIZE</td><td>Map(predicate -> [], zOrderBy -> [], batchId -> 0, auto -> true)</td><td>null</td><td>List(387350043725306)</td><td>0911-070944-tra6x1ll</td><td>5</td><td>SnapshotIsolation</td><td>false</td><td>Map(numRemovedFiles -> 2, numRemovedBytes -> 3283, p25FileSize -> 1792, numDeletionVectorsRemoved -> 1, minFileSize -> 1792, numAddedFiles -> 1, maxFileSize -> 1792, p75FileSize -> 1792, p50FileSize -> 1792, numAddedBytes -> 1792)</td><td>null</td><td>Databricks-Runtime/14.3.x-photon-scala2.12</td></tr><tr><td>5</td><td>2024-09-13T07:07:58Z</td><td>7670452412022086</td><td>azuser2139_mml.local@techademy.com</td><td>MERGE</td><td>Map(predicate -> [\"(cast(OrderID#3538 as int) = OrderID#2133)\"], matchedPredicates -> [{\"actionType\":\"update\"}], statsOnLoad -> false, notMatchedBySourcePredicates -> [], notMatchedPredicates -> [{\"actionType\":\"insert\"}])</td><td>null</td><td>List(387350043725306)</td><td>0911-070944-tra6x1ll</td><td>4</td><td>WriteSerializable</td><td>false</td><td>Map(numTargetRowsCopied -> 0, numTargetRowsDeleted -> 0, numTargetFilesAdded -> 1, numTargetBytesAdded -> 1493, numTargetBytesRemoved -> 0, numTargetDeletionVectorsAdded -> 1, numTargetRowsMatchedUpdated -> 3, executionTimeMs -> 1979, numTargetRowsInserted -> 0, numTargetRowsMatchedDeleted -> 0, numTargetDeletionVectorsUpdated -> 0, scanTimeMs -> 818, numTargetRowsUpdated -> 3, numOutputRows -> 3, numTargetDeletionVectorsRemoved -> 0, numTargetRowsNotMatchedBySourceUpdated -> 0, numTargetChangeFilesAdded -> 0, numSourceRows -> 3, numTargetFilesRemoved -> 0, numTargetRowsNotMatchedBySourceDeleted -> 0, rewriteTimeMs -> 990)</td><td>null</td><td>Databricks-Runtime/14.3.x-photon-scala2.12</td></tr><tr><td>4</td><td>2024-09-13T07:07:38Z</td><td>7670452412022086</td><td>azuser2139_mml.local@techademy.com</td><td>OPTIMIZE</td><td>Map(predicate -> [], zOrderBy -> [], batchId -> 0, auto -> true)</td><td>null</td><td>List(387350043725306)</td><td>0911-070944-tra6x1ll</td><td>3</td><td>SnapshotIsolation</td><td>false</td><td>Map(numRemovedFiles -> 2, numRemovedBytes -> 3210, p25FileSize -> 1790, numDeletionVectorsRemoved -> 1, minFileSize -> 1790, numAddedFiles -> 1, maxFileSize -> 1790, p75FileSize -> 1790, p50FileSize -> 1790, numAddedBytes -> 1790)</td><td>null</td><td>Databricks-Runtime/14.3.x-photon-scala2.12</td></tr><tr><td>3</td><td>2024-09-13T07:07:34Z</td><td>7670452412022086</td><td>azuser2139_mml.local@techademy.com</td><td>MERGE</td><td>Map(predicate -> [\"(cast(OrderID#2189 as int) = OrderID#2133)\"], matchedPredicates -> [{\"actionType\":\"update\"}], statsOnLoad -> false, notMatchedBySourcePredicates -> [], notMatchedPredicates -> [{\"actionType\":\"insert\"}])</td><td>null</td><td>List(387350043725306)</td><td>0911-070944-tra6x1ll</td><td>2</td><td>WriteSerializable</td><td>false</td><td>Map(numTargetRowsCopied -> 0, numTargetRowsDeleted -> 0, numTargetFilesAdded -> 1, numTargetBytesAdded -> 1490, numTargetBytesRemoved -> 0, numTargetDeletionVectorsAdded -> 1, numTargetRowsMatchedUpdated -> 1, executionTimeMs -> 4203, numTargetRowsInserted -> 2, numTargetRowsMatchedDeleted -> 0, numTargetDeletionVectorsUpdated -> 0, scanTimeMs -> 2210, numTargetRowsUpdated -> 1, numOutputRows -> 3, numTargetDeletionVectorsRemoved -> 0, numTargetRowsNotMatchedBySourceUpdated -> 0, numTargetChangeFilesAdded -> 0, numSourceRows -> 3, numTargetFilesRemoved -> 0, numTargetRowsNotMatchedBySourceDeleted -> 0, rewriteTimeMs -> 1747)</td><td>null</td><td>Databricks-Runtime/14.3.x-photon-scala2.12</td></tr><tr><td>2</td><td>2024-09-13T07:01:13Z</td><td>7670452412022086</td><td>azuser2139_mml.local@techademy.com</td><td>WRITE</td><td>Map(mode -> Overwrite, statsOnLoad -> false, partitionBy -> [])</td><td>null</td><td>List(387350043725306)</td><td>0911-070944-tra6x1ll</td><td>1</td><td>WriteSerializable</td><td>false</td><td>Map(numFiles -> 1, numOutputRows -> 8, numOutputBytes -> 1720)</td><td>null</td><td>Databricks-Runtime/14.3.x-photon-scala2.12</td></tr><tr><td>1</td><td>2024-09-13T07:00:18Z</td><td>7670452412022086</td><td>azuser2139_mml.local@techademy.com</td><td>WRITE</td><td>Map(mode -> Overwrite, statsOnLoad -> false, partitionBy -> [])</td><td>null</td><td>List(387350043725306)</td><td>0911-070944-tra6x1ll</td><td>0</td><td>WriteSerializable</td><td>false</td><td>Map(numFiles -> 1, numOutputRows -> 8, numOutputBytes -> 1720)</td><td>null</td><td>Databricks-Runtime/14.3.x-photon-scala2.12</td></tr><tr><td>0</td><td>2024-09-13T06:53:25Z</td><td>7670452412022086</td><td>azuser2139_mml.local@techademy.com</td><td>WRITE</td><td>Map(mode -> Overwrite, statsOnLoad -> false, partitionBy -> [])</td><td>null</td><td>List(387350043725306)</td><td>0911-070944-tra6x1ll</td><td>null</td><td>WriteSerializable</td><td>false</td><td>Map(numFiles -> 1, numOutputRows -> 8, numOutputBytes -> 1720)</td><td>null</td><td>Databricks-Runtime/14.3.x-photon-scala2.12</td></tr></tbody></table></div>"
      ]
     },
     "metadata": {
      "application/vnd.databricks.v1+output": {
       "addedWidgets": {},
       "aggData": [],
       "aggError": "",
       "aggOverflow": false,
       "aggSchema": [],
       "aggSeriesLimitReached": false,
       "aggType": "",
       "arguments": {},
       "columnCustomDisplayInfos": {},
       "data": [
        [
         16,
         "2024-09-13T09:47:21Z",
         "7670452412022086",
         "azuser2139_mml.local@techademy.com",
         "MERGE",
         {
          "matchedPredicates": "[{\"actionType\":\"update\"}]",
          "notMatchedBySourcePredicates": "[]",
          "notMatchedPredicates": "[{\"actionType\":\"insert\"}]",
          "predicate": "[\"(OrderID#12823 = OrderID#12835)\"]",
          "statsOnLoad": "false"
         },
         null,
         [
          "387350043725306"
         ],
         "0911-070944-tra6x1ll",
         15,
         "WriteSerializable",
         false,
         {
          "executionTimeMs": "1517",
          "numOutputRows": "10",
          "numSourceRows": "10",
          "numTargetBytesAdded": "1794",
          "numTargetBytesRemoved": "1794",
          "numTargetChangeFilesAdded": "0",
          "numTargetDeletionVectorsAdded": "0",
          "numTargetDeletionVectorsRemoved": "0",
          "numTargetDeletionVectorsUpdated": "0",
          "numTargetFilesAdded": "1",
          "numTargetFilesRemoved": "1",
          "numTargetRowsCopied": "0",
          "numTargetRowsDeleted": "0",
          "numTargetRowsInserted": "0",
          "numTargetRowsMatchedDeleted": "0",
          "numTargetRowsMatchedUpdated": "10",
          "numTargetRowsNotMatchedBySourceDeleted": "0",
          "numTargetRowsNotMatchedBySourceUpdated": "0",
          "numTargetRowsUpdated": "10",
          "rewriteTimeMs": "813",
          "scanTimeMs": "559"
         },
         null,
         "Databricks-Runtime/14.3.x-photon-scala2.12"
        ],
        [
         15,
         "2024-09-13T09:41:03Z",
         "7670452412022086",
         "azuser2139_mml.local@techademy.com",
         "WRITE",
         {
          "mode": "Overwrite",
          "partitionBy": "[]",
          "statsOnLoad": "false"
         },
         null,
         [
          "387350043725306"
         ],
         "0911-070944-tra6x1ll",
         14,
         "WriteSerializable",
         false,
         {
          "numFiles": "1",
          "numOutputBytes": "1794",
          "numOutputRows": "10"
         },
         null,
         "Databricks-Runtime/14.3.x-photon-scala2.12"
        ],
        [
         14,
         "2024-09-13T07:39:16Z",
         "7670452412022086",
         "azuser2139_mml.local@techademy.com",
         "VACUUM END",
         {
          "status": "COMPLETED"
         },
         null,
         [
          "387350043725306"
         ],
         "0911-070944-tra6x1ll",
         13,
         "SnapshotIsolation",
         true,
         {
          "numDeletedFiles": "3",
          "numVacuumedDirectories": "1"
         },
         null,
         "Databricks-Runtime/14.3.x-photon-scala2.12"
        ],
        [
         13,
         "2024-09-13T07:39:11Z",
         "7670452412022086",
         "azuser2139_mml.local@techademy.com",
         "VACUUM START",
         {
          "defaultRetentionMillis": "604800000",
          "retentionCheckEnabled": "false",
          "specifiedRetentionMillis": "0"
         },
         null,
         [
          "387350043725306"
         ],
         "0911-070944-tra6x1ll",
         12,
         "SnapshotIsolation",
         true,
         {
          "numFilesToDelete": "3",
          "sizeOfDataToDelete": "3380"
         },
         null,
         "Databricks-Runtime/14.3.x-photon-scala2.12"
        ],
        [
         12,
         "2024-09-13T07:23:07Z",
         "7670452412022086",
         "azuser2139_mml.local@techademy.com",
         "OPTIMIZE",
         {
          "auto": "true",
          "batchId": "0",
          "predicate": "[]",
          "zOrderBy": "[]"
         },
         null,
         [
          "387350043725306"
         ],
         "0911-070944-tra6x1ll",
         11,
         "SnapshotIsolation",
         false,
         {
          "maxFileSize": "1794",
          "minFileSize": "1794",
          "numAddedBytes": "1794",
          "numAddedFiles": "1",
          "numDeletionVectorsRemoved": "1",
          "numRemovedBytes": "3287",
          "numRemovedFiles": "2",
          "p25FileSize": "1794",
          "p50FileSize": "1794",
          "p75FileSize": "1794"
         },
         null,
         "Databricks-Runtime/14.3.x-photon-scala2.12"
        ],
        [
         11,
         "2024-09-13T07:23:05Z",
         "7670452412022086",
         "azuser2139_mml.local@techademy.com",
         "MERGE",
         {
          "matchedPredicates": "[{\"actionType\":\"update\"}]",
          "notMatchedBySourcePredicates": "[]",
          "notMatchedPredicates": "[{\"actionType\":\"insert\"}]",
          "predicate": "[\"(OrderID#8544 = OrderID#8573)\"]",
          "statsOnLoad": "false"
         },
         null,
         [
          "387350043725306"
         ],
         "0911-070944-tra6x1ll",
         10,
         "WriteSerializable",
         false,
         {
          "executionTimeMs": "2075",
          "numOutputRows": "3",
          "numSourceRows": "3",
          "numTargetBytesAdded": "1495",
          "numTargetBytesRemoved": "0",
          "numTargetChangeFilesAdded": "0",
          "numTargetDeletionVectorsAdded": "1",
          "numTargetDeletionVectorsRemoved": "0",
          "numTargetDeletionVectorsUpdated": "0",
          "numTargetFilesAdded": "1",
          "numTargetFilesRemoved": "0",
          "numTargetRowsCopied": "0",
          "numTargetRowsDeleted": "0",
          "numTargetRowsInserted": "0",
          "numTargetRowsMatchedDeleted": "0",
          "numTargetRowsMatchedUpdated": "3",
          "numTargetRowsNotMatchedBySourceDeleted": "0",
          "numTargetRowsNotMatchedBySourceUpdated": "0",
          "numTargetRowsUpdated": "3",
          "rewriteTimeMs": "1148",
          "scanTimeMs": "671"
         },
         null,
         "Databricks-Runtime/14.3.x-photon-scala2.12"
        ],
        [
         10,
         "2024-09-13T07:17:34Z",
         "7670452412022086",
         "azuser2139_mml.local@techademy.com",
         "VACUUM END",
         {
          "status": "COMPLETED"
         },
         null,
         [
          "387350043725306"
         ],
         "0911-070944-tra6x1ll",
         9,
         "SnapshotIsolation",
         true,
         {
          "numDeletedFiles": "8",
          "numVacuumedDirectories": "1"
         },
         null,
         "Databricks-Runtime/14.3.x-photon-scala2.12"
        ],
        [
         9,
         "2024-09-13T07:17:28Z",
         "7670452412022086",
         "azuser2139_mml.local@techademy.com",
         "VACUUM START",
         {
          "defaultRetentionMillis": "604800000",
          "retentionCheckEnabled": "false",
          "specifiedRetentionMillis": "0"
         },
         null,
         [
          "387350043725306"
         ],
         "0911-070944-tra6x1ll",
         8,
         "SnapshotIsolation",
         true,
         {
          "numFilesToDelete": "8",
          "sizeOfDataToDelete": "10111"
         },
         null,
         "Databricks-Runtime/14.3.x-photon-scala2.12"
        ],
        [
         8,
         "2024-09-13T07:16:29Z",
         "7670452412022086",
         "azuser2139_mml.local@techademy.com",
         "VACUUM END",
         {
          "status": "COMPLETED"
         },
         null,
         [
          "387350043725306"
         ],
         "0911-070944-tra6x1ll",
         7,
         "SnapshotIsolation",
         true,
         {
          "numDeletedFiles": "0",
          "numVacuumedDirectories": "1"
         },
         null,
         "Databricks-Runtime/14.3.x-photon-scala2.12"
        ],
        [
         7,
         "2024-09-13T07:16:22Z",
         "7670452412022086",
         "azuser2139_mml.local@techademy.com",
         "VACUUM START",
         {
          "defaultRetentionMillis": "604800000",
          "retentionCheckEnabled": "true",
          "specifiedRetentionMillis": "604800000"
         },
         null,
         [
          "387350043725306"
         ],
         "0911-070944-tra6x1ll",
         6,
         "SnapshotIsolation",
         true,
         {
          "numFilesToDelete": "0",
          "sizeOfDataToDelete": "0"
         },
         null,
         "Databricks-Runtime/14.3.x-photon-scala2.12"
        ],
        [
         6,
         "2024-09-13T07:07:59Z",
         "7670452412022086",
         "azuser2139_mml.local@techademy.com",
         "OPTIMIZE",
         {
          "auto": "true",
          "batchId": "0",
          "predicate": "[]",
          "zOrderBy": "[]"
         },
         null,
         [
          "387350043725306"
         ],
         "0911-070944-tra6x1ll",
         5,
         "SnapshotIsolation",
         false,
         {
          "maxFileSize": "1792",
          "minFileSize": "1792",
          "numAddedBytes": "1792",
          "numAddedFiles": "1",
          "numDeletionVectorsRemoved": "1",
          "numRemovedBytes": "3283",
          "numRemovedFiles": "2",
          "p25FileSize": "1792",
          "p50FileSize": "1792",
          "p75FileSize": "1792"
         },
         null,
         "Databricks-Runtime/14.3.x-photon-scala2.12"
        ],
        [
         5,
         "2024-09-13T07:07:58Z",
         "7670452412022086",
         "azuser2139_mml.local@techademy.com",
         "MERGE",
         {
          "matchedPredicates": "[{\"actionType\":\"update\"}]",
          "notMatchedBySourcePredicates": "[]",
          "notMatchedPredicates": "[{\"actionType\":\"insert\"}]",
          "predicate": "[\"(cast(OrderID#3538 as int) = OrderID#2133)\"]",
          "statsOnLoad": "false"
         },
         null,
         [
          "387350043725306"
         ],
         "0911-070944-tra6x1ll",
         4,
         "WriteSerializable",
         false,
         {
          "executionTimeMs": "1979",
          "numOutputRows": "3",
          "numSourceRows": "3",
          "numTargetBytesAdded": "1493",
          "numTargetBytesRemoved": "0",
          "numTargetChangeFilesAdded": "0",
          "numTargetDeletionVectorsAdded": "1",
          "numTargetDeletionVectorsRemoved": "0",
          "numTargetDeletionVectorsUpdated": "0",
          "numTargetFilesAdded": "1",
          "numTargetFilesRemoved": "0",
          "numTargetRowsCopied": "0",
          "numTargetRowsDeleted": "0",
          "numTargetRowsInserted": "0",
          "numTargetRowsMatchedDeleted": "0",
          "numTargetRowsMatchedUpdated": "3",
          "numTargetRowsNotMatchedBySourceDeleted": "0",
          "numTargetRowsNotMatchedBySourceUpdated": "0",
          "numTargetRowsUpdated": "3",
          "rewriteTimeMs": "990",
          "scanTimeMs": "818"
         },
         null,
         "Databricks-Runtime/14.3.x-photon-scala2.12"
        ],
        [
         4,
         "2024-09-13T07:07:38Z",
         "7670452412022086",
         "azuser2139_mml.local@techademy.com",
         "OPTIMIZE",
         {
          "auto": "true",
          "batchId": "0",
          "predicate": "[]",
          "zOrderBy": "[]"
         },
         null,
         [
          "387350043725306"
         ],
         "0911-070944-tra6x1ll",
         3,
         "SnapshotIsolation",
         false,
         {
          "maxFileSize": "1790",
          "minFileSize": "1790",
          "numAddedBytes": "1790",
          "numAddedFiles": "1",
          "numDeletionVectorsRemoved": "1",
          "numRemovedBytes": "3210",
          "numRemovedFiles": "2",
          "p25FileSize": "1790",
          "p50FileSize": "1790",
          "p75FileSize": "1790"
         },
         null,
         "Databricks-Runtime/14.3.x-photon-scala2.12"
        ],
        [
         3,
         "2024-09-13T07:07:34Z",
         "7670452412022086",
         "azuser2139_mml.local@techademy.com",
         "MERGE",
         {
          "matchedPredicates": "[{\"actionType\":\"update\"}]",
          "notMatchedBySourcePredicates": "[]",
          "notMatchedPredicates": "[{\"actionType\":\"insert\"}]",
          "predicate": "[\"(cast(OrderID#2189 as int) = OrderID#2133)\"]",
          "statsOnLoad": "false"
         },
         null,
         [
          "387350043725306"
         ],
         "0911-070944-tra6x1ll",
         2,
         "WriteSerializable",
         false,
         {
          "executionTimeMs": "4203",
          "numOutputRows": "3",
          "numSourceRows": "3",
          "numTargetBytesAdded": "1490",
          "numTargetBytesRemoved": "0",
          "numTargetChangeFilesAdded": "0",
          "numTargetDeletionVectorsAdded": "1",
          "numTargetDeletionVectorsRemoved": "0",
          "numTargetDeletionVectorsUpdated": "0",
          "numTargetFilesAdded": "1",
          "numTargetFilesRemoved": "0",
          "numTargetRowsCopied": "0",
          "numTargetRowsDeleted": "0",
          "numTargetRowsInserted": "2",
          "numTargetRowsMatchedDeleted": "0",
          "numTargetRowsMatchedUpdated": "1",
          "numTargetRowsNotMatchedBySourceDeleted": "0",
          "numTargetRowsNotMatchedBySourceUpdated": "0",
          "numTargetRowsUpdated": "1",
          "rewriteTimeMs": "1747",
          "scanTimeMs": "2210"
         },
         null,
         "Databricks-Runtime/14.3.x-photon-scala2.12"
        ],
        [
         2,
         "2024-09-13T07:01:13Z",
         "7670452412022086",
         "azuser2139_mml.local@techademy.com",
         "WRITE",
         {
          "mode": "Overwrite",
          "partitionBy": "[]",
          "statsOnLoad": "false"
         },
         null,
         [
          "387350043725306"
         ],
         "0911-070944-tra6x1ll",
         1,
         "WriteSerializable",
         false,
         {
          "numFiles": "1",
          "numOutputBytes": "1720",
          "numOutputRows": "8"
         },
         null,
         "Databricks-Runtime/14.3.x-photon-scala2.12"
        ],
        [
         1,
         "2024-09-13T07:00:18Z",
         "7670452412022086",
         "azuser2139_mml.local@techademy.com",
         "WRITE",
         {
          "mode": "Overwrite",
          "partitionBy": "[]",
          "statsOnLoad": "false"
         },
         null,
         [
          "387350043725306"
         ],
         "0911-070944-tra6x1ll",
         0,
         "WriteSerializable",
         false,
         {
          "numFiles": "1",
          "numOutputBytes": "1720",
          "numOutputRows": "8"
         },
         null,
         "Databricks-Runtime/14.3.x-photon-scala2.12"
        ],
        [
         0,
         "2024-09-13T06:53:25Z",
         "7670452412022086",
         "azuser2139_mml.local@techademy.com",
         "WRITE",
         {
          "mode": "Overwrite",
          "partitionBy": "[]",
          "statsOnLoad": "false"
         },
         null,
         [
          "387350043725306"
         ],
         "0911-070944-tra6x1ll",
         null,
         "WriteSerializable",
         false,
         {
          "numFiles": "1",
          "numOutputBytes": "1720",
          "numOutputRows": "8"
         },
         null,
         "Databricks-Runtime/14.3.x-photon-scala2.12"
        ]
       ],
       "datasetInfos": [],
       "dbfsResultPath": null,
       "isJsonSchema": true,
       "metadata": {
        "dataframeName": "_sqldf",
        "executionCount": 45
       },
       "overflow": false,
       "plotOptions": {
        "customPlotOptions": {},
        "displayType": "table",
        "pivotAggregation": null,
        "pivotColumns": null,
        "xColumns": null,
        "yColumns": null
       },
       "removedWidgets": [],
       "schema": [
        {
         "metadata": "{}",
         "name": "version",
         "type": "\"long\""
        },
        {
         "metadata": "{}",
         "name": "timestamp",
         "type": "\"timestamp\""
        },
        {
         "metadata": "{}",
         "name": "userId",
         "type": "\"string\""
        },
        {
         "metadata": "{}",
         "name": "userName",
         "type": "\"string\""
        },
        {
         "metadata": "{}",
         "name": "operation",
         "type": "\"string\""
        },
        {
         "metadata": "{}",
         "name": "operationParameters",
         "type": "{\"type\":\"map\",\"keyType\":\"string\",\"valueType\":\"string\",\"valueContainsNull\":true}"
        },
        {
         "metadata": "{}",
         "name": "job",
         "type": "{\"type\":\"struct\",\"fields\":[{\"name\":\"jobId\",\"type\":\"string\",\"nullable\":true,\"metadata\":{}},{\"name\":\"jobName\",\"type\":\"string\",\"nullable\":true,\"metadata\":{}},{\"name\":\"jobRunId\",\"type\":\"string\",\"nullable\":true,\"metadata\":{}},{\"name\":\"runId\",\"type\":\"string\",\"nullable\":true,\"metadata\":{}},{\"name\":\"jobOwnerId\",\"type\":\"string\",\"nullable\":true,\"metadata\":{}},{\"name\":\"triggerType\",\"type\":\"string\",\"nullable\":true,\"metadata\":{}}]}"
        },
        {
         "metadata": "{}",
         "name": "notebook",
         "type": "{\"type\":\"struct\",\"fields\":[{\"name\":\"notebookId\",\"type\":\"string\",\"nullable\":true,\"metadata\":{}}]}"
        },
        {
         "metadata": "{}",
         "name": "clusterId",
         "type": "\"string\""
        },
        {
         "metadata": "{}",
         "name": "readVersion",
         "type": "\"long\""
        },
        {
         "metadata": "{}",
         "name": "isolationLevel",
         "type": "\"string\""
        },
        {
         "metadata": "{}",
         "name": "isBlindAppend",
         "type": "\"boolean\""
        },
        {
         "metadata": "{}",
         "name": "operationMetrics",
         "type": "{\"type\":\"map\",\"keyType\":\"string\",\"valueType\":\"string\",\"valueContainsNull\":true}"
        },
        {
         "metadata": "{}",
         "name": "userMetadata",
         "type": "\"string\""
        },
        {
         "metadata": "{}",
         "name": "engineInfo",
         "type": "\"string\""
        }
       ],
       "type": "table"
      }
     },
     "output_type": "display_data"
    }
   ],
   "source": [
    "%sql\n",
    "DESCRIBE HISTORY delta.`/delta/sales_dataa_delta`\n",
    "\n"
   ]
  },
  {
   "cell_type": "code",
   "execution_count": 0,
   "metadata": {
    "application/vnd.databricks.v1+cell": {
     "cellMetadata": {
      "byteLimit": 2048000,
      "implicitDf": true,
      "rowLimit": 10000
     },
     "inputWidgets": {},
     "nuid": "bd6235d0-09d3-46e8-af4a-d4fd63f23b9c",
     "showTitle": false,
     "title": ""
    }
   },
   "outputs": [
    {
     "output_type": "display_data",
     "data": {
      "text/html": [
       "<style scoped>\n",
       "  .table-result-container {\n",
       "    max-height: 300px;\n",
       "    overflow: auto;\n",
       "  }\n",
       "  table, th, td {\n",
       "    border: 1px solid black;\n",
       "    border-collapse: collapse;\n",
       "  }\n",
       "  th, td {\n",
       "    padding: 5px;\n",
       "  }\n",
       "  th {\n",
       "    text-align: left;\n",
       "  }\n",
       "</style><div class='table-result-container'><table class='table-result'><thead style='background-color: white'><tr><th>path</th></tr></thead><tbody><tr><td>dbfs:/delta/sales_dataa_delta</td></tr></tbody></table></div>"
      ]
     },
     "metadata": {
      "application/vnd.databricks.v1+output": {
       "addedWidgets": {},
       "aggData": [],
       "aggError": "",
       "aggOverflow": false,
       "aggSchema": [],
       "aggSeriesLimitReached": false,
       "aggType": "",
       "arguments": {},
       "columnCustomDisplayInfos": {},
       "data": [
        [
         "dbfs:/delta/sales_dataa_delta"
        ]
       ],
       "datasetInfos": [],
       "dbfsResultPath": null,
       "isJsonSchema": true,
       "metadata": {
        "dataframeName": "_sqldf",
        "executionCount": 46
       },
       "overflow": false,
       "plotOptions": {
        "customPlotOptions": {},
        "displayType": "table",
        "pivotAggregation": null,
        "pivotColumns": null,
        "xColumns": null,
        "yColumns": null
       },
       "removedWidgets": [],
       "schema": [
        {
         "metadata": "{}",
         "name": "path",
         "type": "\"string\""
        }
       ],
       "type": "table"
      }
     },
     "output_type": "display_data"
    }
   ],
   "source": [
    "%sql\n",
    "VACUUM delta.`/delta/sales_dataa_delta` \n",
    "\n"
   ]
  },
  {
   "cell_type": "markdown",
   "metadata": {
    "application/vnd.databricks.v1+cell": {
     "cellMetadata": {},
     "inputWidgets": {},
     "nuid": "6ea43afa-f5cc-4f62-85fb-f2729e70126a",
     "showTitle": false,
     "title": ""
    }
   },
   "source": [
    "5. Hands-on Exercises"
   ]
  },
  {
   "cell_type": "code",
   "execution_count": 0,
   "metadata": {
    "application/vnd.databricks.v1+cell": {
     "cellMetadata": {
      "byteLimit": 2048000,
      "rowLimit": 10000
     },
     "inputWidgets": {},
     "nuid": "b211c807-d75b-4c9d-b464-0e84a00f8b02",
     "showTitle": false,
     "title": ""
    }
   },
   "outputs": [
    {
     "output_type": "stream",
     "name": "stdout",
     "output_type": "stream",
     "text": [
      "+-------+----------+----------+--------+--------+-----+\n|OrderID| OrderDate|CustomerID| Product|Quantity|Price|\n+-------+----------+----------+--------+--------+-----+\n|   1001|2024-01-15|      C001|Widget A|      10|25.50|\n|   1002|2024-01-16|      C002|Widget B|       5|15.75|\n|   1003|2024-01-16|      C001|Widget C|       8|22.50|\n|   1004|2024-01-17|      C003|Widget A|      15|25.50|\n|   1005|2024-01-18|      C004|Widget D|       7|30.00|\n|   1006|2024-01-19|      C002|Widget B|       9|15.75|\n|   1007|2024-01-20|      C005|Widget C|      12|22.50|\n|   1008|2024-01-21|      C003|Widget A|      10|25.50|\n+-------+----------+----------+--------+--------+-----+\n\n"
     ]
    }
   ],
   "source": [
    "# Query a historical version of the Delta table\n",
    "historical_sales_df = spark.read.format(\"delta\").option(\"versionAsOf\", 2).load(\"/delta/sales_dataa_delta\")\n",
    "historical_sales_df.show()\n"
   ]
  },
  {
   "cell_type": "code",
   "execution_count": 0,
   "metadata": {
    "application/vnd.databricks.v1+cell": {
     "cellMetadata": {
      "byteLimit": 2048000,
      "rowLimit": 10000
     },
     "inputWidgets": {},
     "nuid": "e9dce005-fa95-43ba-a514-980e85c10892",
     "showTitle": false,
     "title": ""
    }
   },
   "outputs": [],
   "source": [
    "from pyspark.sql import SparkSession\n",
    "from pyspark.sql.types import StructType, StructField, StringType, IntegerType\n",
    "\n",
    "# Sample data\n",
    "data = [(\"John Doe\", 30), (\"Jane Doe\", 25)]\n",
    "\n",
    "# Define schema\n",
    "schema = StructType([\n",
    "    StructField(\"Name\", StringType(), True),\n",
    "    StructField(\"Age\", IntegerType(), True)\n",
    "])\n",
    "\n",
    "# Create DataFrame\n",
    "sales_df = spark.createDataFrame(data, schema)\n"
   ]
  },
  {
   "cell_type": "code",
   "execution_count": 0,
   "metadata": {
    "application/vnd.databricks.v1+cell": {
     "cellMetadata": {
      "byteLimit": 2048000,
      "rowLimit": 10000
     },
     "inputWidgets": {},
     "nuid": "f6d6d209-c098-4691-9295-34a4f50ca7d3",
     "showTitle": false,
     "title": ""
    }
   },
   "outputs": [],
   "source": [
    "# Enforce schema when writing to a Delta Table\n",
    "sales_df.write.format(\"delta\").mode(\"overwrite\").option(\"mergeSchema\", \"true\").save(\"/delta/sales_data\")"
   ]
  },
  {
   "cell_type": "code",
   "execution_count": 0,
   "metadata": {
    "application/vnd.databricks.v1+cell": {
     "cellMetadata": {
      "byteLimit": 2048000,
      "implicitDf": true,
      "rowLimit": 10000
     },
     "inputWidgets": {},
     "nuid": "af50f5e6-fe4d-4974-a9c9-438145acf0ec",
     "showTitle": false,
     "title": ""
    }
   },
   "outputs": [
    {
     "output_type": "display_data",
     "data": {
      "text/html": [
       "<style scoped>\n",
       "  .table-result-container {\n",
       "    max-height: 300px;\n",
       "    overflow: auto;\n",
       "  }\n",
       "  table, th, td {\n",
       "    border: 1px solid black;\n",
       "    border-collapse: collapse;\n",
       "  }\n",
       "  th, td {\n",
       "    padding: 5px;\n",
       "  }\n",
       "  th {\n",
       "    text-align: left;\n",
       "  }\n",
       "</style><div class='table-result-container'><table class='table-result'><thead style='background-color: white'><tr><th>path</th></tr></thead><tbody><tr><td>dbfs:/delta/sales_dataa_delta</td></tr></tbody></table></div>"
      ]
     },
     "metadata": {
      "application/vnd.databricks.v1+output": {
       "addedWidgets": {},
       "aggData": [],
       "aggError": "",
       "aggOverflow": false,
       "aggSchema": [],
       "aggSeriesLimitReached": false,
       "aggType": "",
       "arguments": {},
       "columnCustomDisplayInfos": {},
       "data": [
        [
         "dbfs:/delta/sales_dataa_delta"
        ]
       ],
       "datasetInfos": [],
       "dbfsResultPath": null,
       "isJsonSchema": true,
       "metadata": {
        "dataframeName": "_sqldf",
        "executionCount": 49
       },
       "overflow": false,
       "plotOptions": {
        "customPlotOptions": {},
        "displayType": "table",
        "pivotAggregation": null,
        "pivotColumns": null,
        "xColumns": null,
        "yColumns": null
       },
       "removedWidgets": [],
       "schema": [
        {
         "metadata": "{}",
         "name": "path",
         "type": "\"string\""
        }
       ],
       "type": "table"
      }
     },
     "output_type": "display_data"
    }
   ],
   "source": [
    "%sql\n",
    "VACUUM delta.`/delta/sales_dataa_delta` "
   ]
  }
 ],
 "metadata": {
  "application/vnd.databricks.v1+notebook": {
   "dashboards": [],
   "environmentMetadata": null,
   "language": "python",
   "notebookMetadata": {
    "mostRecentlyExecutedCommandWithImplicitDF": {
     "commandId": 387350043725339,
     "dataframes": [
      "_sqldf"
     ]
    },
    "pythonIndentUnit": 4
   },
   "notebookName": "13_09_tasks",
   "widgets": {}
  }
 },
 "nbformat": 4,
 "nbformat_minor": 0
}
